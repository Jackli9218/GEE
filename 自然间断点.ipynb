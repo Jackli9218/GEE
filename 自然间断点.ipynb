{
 "cells": [
  {
   "cell_type": "code",
   "execution_count": 1,
   "metadata": {
    "slideshow": {
     "slide_type": "slide"
    }
   },
   "outputs": [
    {
     "ename": "IndentationError",
     "evalue": "expected an indented block (<ipython-input-1-e447db2a4413>, line 35)",
     "output_type": "error",
     "traceback": [
      "\u001b[1;36m  File \u001b[1;32m\"<ipython-input-1-e447db2a4413>\"\u001b[1;36m, line \u001b[1;32m35\u001b[0m\n\u001b[1;33m    print(breaks)\u001b[0m\n\u001b[1;37m    ^\u001b[0m\n\u001b[1;31mIndentationError\u001b[0m\u001b[1;31m:\u001b[0m expected an indented block\n"
     ]
    }
   ],
   "source": [
    "import xlrd\n",
    "import xlwt\n",
    "import jenkspy\n",
    "Table1990 = xlrd.open_workbook(r'D:\\06Article\\02China\\07Fig&Table\\驱动力和效率汇总表\\INdexCluster.xlsx')\n",
    "sheet1 = Table1990.sheets()[0]\n",
    "# print(Table1990.sheet_names())\n",
    "# print(sheet1.name,sheet1.nrows, sheet1.ncols)\n",
    "# print(sheet1.col_values(1))\n",
    "f = xlwt.Workbook()\n",
    "for k in range(0,len(Table1990.sheets())):\n",
    "    sheetSave = f.add_sheet(Table1990.sheets()[k].name,cell_overwrite_ok = True)\n",
    "    sheet = Table1990.sheets()[k]\n",
    "    for j in range(1,sheet.ncols):\n",
    "        col = sheet.col_values(j)\n",
    "        List = col[1:len(col)]\n",
    "        ListID = col[1:len(col)]\n",
    "        breaks = jenkspy.jenks_breaks(List,nb_class = 8)\n",
    "        for i in range(len(List)):\n",
    "            if List[i] < breaks[1]:\n",
    "                ListID[i] = 1\n",
    "            elif List[i] < breaks[2] and List[i] >= breaks[1]:\n",
    "                ListID[i] = 2\n",
    "            elif List[i] < breaks[3] and List[i] >= breaks[2]:\n",
    "                ListID[i] = 3\n",
    "            elif List[i] < breaks[4] and List[i] >= breaks[3]:\n",
    "                ListID[i] = 4\n",
    "            elif List[i] < breaks[5] and List[i] >= breaks[4]:\n",
    "                ListID[i] = 5\n",
    "            elif List[i] < breaks[6] and List[i] >= breaks[5]:\n",
    "                ListID[i] = 6\n",
    "            elif List[i] < breaks[7] and List[i] >= breaks[6]:\n",
    "                ListID[i] = 7\n",
    "            else:\n",
    "                ListID[i] = 8\n",
    "        print(breaks)        \n",
    "        print(ListID)\n",
    "        for u in range(0,len(ListID)):\n",
    "            sheetSave.write(u,j,ListID[u])\n",
    "        print(j,'------')\n",
    "    print(k,'======')\n",
    "f.save(r'D:\\06Article\\02China\\07Fig&Table\\驱动力和效率汇总表\\demo.xls')"
   ]
  }
 ],
 "metadata": {
  "kernelspec": {
   "display_name": "Python 3",
   "language": "python",
   "name": "python3"
  },
  "language_info": {
   "codemirror_mode": {
    "name": "ipython",
    "version": 3
   },
   "file_extension": ".py",
   "mimetype": "text/x-python",
   "name": "python",
   "nbconvert_exporter": "python",
   "pygments_lexer": "ipython3",
   "version": "3.6.5"
  }
 },
 "nbformat": 4,
 "nbformat_minor": 2
}
